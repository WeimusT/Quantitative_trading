{
  "nbformat": 4,
  "nbformat_minor": 0,
  "metadata": {
    "colab": {
      "provenance": [],
      "authorship_tag": "ABX9TyPFvvYgN9PTDQx6cFPjI+Vg",
      "include_colab_link": true
    },
    "kernelspec": {
      "name": "python3",
      "display_name": "Python 3"
    },
    "language_info": {
      "name": "python"
    }
  },
  "cells": [
    {
      "cell_type": "markdown",
      "metadata": {
        "id": "view-in-github",
        "colab_type": "text"
      },
      "source": [
        "<a href=\"https://colab.research.google.com/github/WeimusT/Quantitative_trading/blob/main/CAPM.ipynb\" target=\"_parent\"><img src=\"https://colab.research.google.com/assets/colab-badge.svg\" alt=\"Open In Colab\"/></a>"
      ]
    },
    {
      "cell_type": "code",
      "execution_count": 1,
      "metadata": {
        "id": "YqcQH5Fjb4Ft"
      },
      "outputs": [],
      "source": [
        "import pandas as pd\n",
        "import yfinance as yf"
      ]
    },
    {
      "cell_type": "markdown",
      "source": [
        "The Capital Asset Pricing Model (CAPM) is a model to estimate the return of a stock ($E[R]$) using market return ($R_m$), risk free return ($R_f$) and the volatility of the stock ($\\beta$). It is defined as \n",
        "\n",
        "$$E[R]=R_f + \\beta(R_m-R_f)$$.\n",
        "\n"
      ],
      "metadata": {
        "id": "x_sujx6ob62x"
      }
    },
    {
      "cell_type": "code",
      "source": [
        "# Calculate last 30 day daily beta of Tenable"
      ],
      "metadata": {
        "id": "bvKwdEsddIq6"
      },
      "execution_count": 3,
      "outputs": []
    },
    {
      "cell_type": "code",
      "source": [],
      "metadata": {
        "id": "Vh0ymjYzdz4a"
      },
      "execution_count": null,
      "outputs": []
    }
  ]
}