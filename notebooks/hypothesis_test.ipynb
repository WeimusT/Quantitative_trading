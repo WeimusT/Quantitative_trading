{
 "cells": [
  {
   "attachments": {},
   "cell_type": "markdown",
   "metadata": {},
   "source": [
    "This notebook shows how to use hypothesis test methods gain confidence that the backtest results are not due to probability. Three methods are demonstrated:\n",
    "* Test statistics and p-value\n",
    "* Simulation\n",
    "* Lo, Manmaysky and Wang, 2000"
   ]
  },
  {
   "cell_type": "code",
   "execution_count": null,
   "metadata": {
    "vscode": {
     "languageId": "plaintext"
    }
   },
   "outputs": [],
   "source": []
  }
 ],
 "metadata": {
  "language_info": {
   "name": "python"
  },
  "orig_nbformat": 4
 },
 "nbformat": 4,
 "nbformat_minor": 2
}
