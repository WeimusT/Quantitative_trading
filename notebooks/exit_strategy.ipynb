{
 "cells": [
  {
   "attachments": {},
   "cell_type": "markdown",
   "metadata": {},
   "source": [
    "Exit strategy can be one of:\n",
    "* A fixed holding period\n",
    "* A target price or profit cap\n",
    "* The latest entry signal\n",
    "* A stop price"
   ]
  },
  {
   "attachments": {},
   "cell_type": "markdown",
   "metadata": {},
   "source": [
    "Exit strategies for different\n",
    "\n",
    "__Momentum Model__\n",
    "\n",
    "One of the ways momentum is generated is the _slow diffusion of information_. In this case, the momentum has a finite lifetime. Unfortunately, there is no silver bullet to determine the optimal holding period for a momentum trading strategies. Using average length of momentum might work for the backtest period but may not be profitable applied to the actual market.\n",
    "\n",
    "__Mean Reversion Model__\n",
    "\n",
    "The mean reversion of a time series can be modeled by an equation called the _Ornstein-Uhlenbeck Formula_. Let $z(t)$ be the spread of a pair of stocks, $\\mu$ the mean value of the prices over time, and $dW$ some random Gaussian noise. The Ornstein-Uhlenbeck Formula is written as\n",
    "\n",
    "$dz(t)=-\\theta(z(t) - \\mu)dt+dW$"
   ]
  },
  {
   "cell_type": "code",
   "execution_count": 16,
   "metadata": {},
   "outputs": [],
   "source": [
    "# Change current path to project root folder\n",
    "import os\n",
    "from importlib import reload\n",
    "os.chdir(\"..\")"
   ]
  },
  {
   "cell_type": "code",
   "execution_count": 36,
   "metadata": {},
   "outputs": [],
   "source": [
    "import statsmodels.api as sm\n",
    "from statsmodels.tsa.stattools import coint\n",
    "import numpy as np\n",
    "import pandas as pd\n",
    "import matplotlib.pyplot as plt\n",
    "import yfinance as yf"
   ]
  },
  {
   "cell_type": "code",
   "execution_count": 27,
   "metadata": {},
   "outputs": [
    {
     "data": {
      "text/plain": [
       "<module 'src.utils' from '/Users/wtai/Projects/Quantitative_trading/src/utils.py'>"
      ]
     },
     "execution_count": 27,
     "metadata": {},
     "output_type": "execute_result"
    }
   ],
   "source": [
    "import src.utils as utils\n",
    "reload(utils)"
   ]
  },
  {
   "cell_type": "code",
   "execution_count": 2,
   "metadata": {},
   "outputs": [],
   "source": [
    "gld_ticker, gdx_ticker = yf.Ticker(\"GLD\"), yf.Ticker(\"GDX\")"
   ]
  },
  {
   "cell_type": "code",
   "execution_count": 8,
   "metadata": {},
   "outputs": [],
   "source": [
    "gld_df = gld_ticker.history(period=\"2y\")\n",
    "gdx_df = gdx_ticker.history(period=\"2y\")"
   ]
  },
  {
   "cell_type": "code",
   "execution_count": 30,
   "metadata": {},
   "outputs": [
    {
     "data": {
      "image/png": "[encoded data removed]",
      "text/plain": [
       "<Figure size 1800x360 with 1 Axes>"
      ]
     },
     "metadata": {
      "needs_background": "light"
     },
     "output_type": "display_data"
    }
   ],
   "source": [
    "utils.plot_candle_stick(gld_df.iloc[-126:-1, :], figsize=[25, 5], title=\"GLD Price\")"
   ]
  },
  {
   "cell_type": "code",
   "execution_count": 31,
   "metadata": {},
   "outputs": [
    {
     "data": {
      "image/png": "[encoded data removed]",
      "text/plain": [
       "<Figure size 1800x360 with 1 Axes>"
      ]
     },
     "metadata": {
      "needs_background": "light"
     },
     "output_type": "display_data"
    }
   ],
   "source": [
    "utils.plot_candle_stick(gdx_df.iloc[-126:-1, :], figsize=[25, 5], title=\"GDX Price\")"
   ]
  },
  {
   "cell_type": "code",
   "execution_count": 35,
   "metadata": {},
   "outputs": [
    {
     "data": {
      "text/html": [
       "<div>\n",
       "<style scoped>\n",
       "    .dataframe tbody tr th:only-of-type {\n",
       "        vertical-align: middle;\n",
       "    }\n",
       "\n",
       "    .dataframe tbody tr th {\n",
       "        vertical-align: top;\n",
       "    }\n",
       "\n",
       "    .dataframe thead th {\n",
       "        text-align: right;\n",
       "    }\n",
       "</style>\n",
       "<table border=\"1\" class=\"dataframe\">\n",
       "  <thead>\n",
       "    <tr style=\"text-align: right;\">\n",
       "      <th></th>\n",
       "      <th>Close_GDX</th>\n",
       "      <th>Close_GLD</th>\n",
       "    </tr>\n",
       "    <tr>\n",
       "      <th>Date</th>\n",
       "      <th></th>\n",
       "      <th></th>\n",
       "    </tr>\n",
       "  </thead>\n",
       "  <tbody>\n",
       "    <tr>\n",
       "      <th>2021-05-24 00:00:00-04:00</th>\n",
       "      <td>176.350006</td>\n",
       "      <td>38.107388</td>\n",
       "    </tr>\n",
       "    <tr>\n",
       "      <th>2021-05-25 00:00:00-04:00</th>\n",
       "      <td>177.949997</td>\n",
       "      <td>38.194366</td>\n",
       "    </tr>\n",
       "    <tr>\n",
       "      <th>2021-05-26 00:00:00-04:00</th>\n",
       "      <td>177.639999</td>\n",
       "      <td>38.136383</td>\n",
       "    </tr>\n",
       "    <tr>\n",
       "      <th>2021-05-27 00:00:00-04:00</th>\n",
       "      <td>177.710007</td>\n",
       "      <td>37.894768</td>\n",
       "    </tr>\n",
       "    <tr>\n",
       "      <th>2021-05-28 00:00:00-04:00</th>\n",
       "      <td>178.380005</td>\n",
       "      <td>38.097721</td>\n",
       "    </tr>\n",
       "    <tr>\n",
       "      <th>...</th>\n",
       "      <td>...</td>\n",
       "      <td>...</td>\n",
       "    </tr>\n",
       "    <tr>\n",
       "      <th>2023-05-17 00:00:00-04:00</th>\n",
       "      <td>184.229996</td>\n",
       "      <td>32.730000</td>\n",
       "    </tr>\n",
       "    <tr>\n",
       "      <th>2023-05-18 00:00:00-04:00</th>\n",
       "      <td>181.839996</td>\n",
       "      <td>31.879999</td>\n",
       "    </tr>\n",
       "    <tr>\n",
       "      <th>2023-05-19 00:00:00-04:00</th>\n",
       "      <td>183.639999</td>\n",
       "      <td>32.160000</td>\n",
       "    </tr>\n",
       "    <tr>\n",
       "      <th>2023-05-22 00:00:00-04:00</th>\n",
       "      <td>183.210007</td>\n",
       "      <td>31.870001</td>\n",
       "    </tr>\n",
       "    <tr>\n",
       "      <th>2023-05-23 00:00:00-04:00</th>\n",
       "      <td>183.440002</td>\n",
       "      <td>31.670000</td>\n",
       "    </tr>\n",
       "  </tbody>\n",
       "</table>\n",
       "<p>504 rows × 2 columns</p>\n",
       "</div>"
      ],
      "text/plain": [
       "                            Close_GDX  Close_GLD\n",
       "Date                                            \n",
       "2021-05-24 00:00:00-04:00  176.350006  38.107388\n",
       "2021-05-25 00:00:00-04:00  177.949997  38.194366\n",
       "2021-05-26 00:00:00-04:00  177.639999  38.136383\n",
       "2021-05-27 00:00:00-04:00  177.710007  37.894768\n",
       "2021-05-28 00:00:00-04:00  178.380005  38.097721\n",
       "...                               ...        ...\n",
       "2023-05-17 00:00:00-04:00  184.229996  32.730000\n",
       "2023-05-18 00:00:00-04:00  181.839996  31.879999\n",
       "2023-05-19 00:00:00-04:00  183.639999  32.160000\n",
       "2023-05-22 00:00:00-04:00  183.210007  31.870001\n",
       "2023-05-23 00:00:00-04:00  183.440002  31.670000\n",
       "\n",
       "[504 rows x 2 columns]"
      ]
     },
     "execution_count": 35,
     "metadata": {},
     "output_type": "execute_result"
    }
   ],
   "source": [
    "df = pd.merge(gld_df.Close, gdx_df.Close, left_index=True, right_index=True, suffixes=[\"_GDX\", \"_GLD\"])"
   ]
  },
  {
   "attachments": {},
   "cell_type": "markdown",
   "metadata": {},
   "source": [
    "Run the Engle-Granger test for the cointegration of two series has unit root. The null hypothesis is that the two time series does not cointegrate. \n",
    "\n",
    "The p-value is greater than 0.05. We cannot reject the Null hypothesis."
   ]
  },
  {
   "cell_type": "code",
   "execution_count": 53,
   "metadata": {},
   "outputs": [
    {
     "name": "stdout",
     "output_type": "stream",
     "text": [
      "T-statistic -2.6113\n",
      "P-value 0.2323\n",
      "Critical value  [-3.94060523 -3.36058133 -3.06139039]\n"
     ]
    }
   ],
   "source": [
    "coint_t, pvalue, crit_value = coint(y0=df.iloc[0:252,:].loc[:,\"Close_GLD\"], y1=df.iloc[0:252,:].loc[:,\"Close_GDX\"])\n",
    "print(\"T-statistic %.4f\" % coint_t)\n",
    "print(\"P-value %.4f\" % pvalue)\n",
    "print(\"Critical value \", crit_value)"
   ]
  },
  {
   "attachments": {},
   "cell_type": "markdown",
   "metadata": {},
   "source": [
    "Visually the cointegration of two time series does not look stationary. There are a few spikes in 2021-07 and 2021-08. Also, there are a few dips at 2021-11 and 2022-03."
   ]
  },
  {
   "cell_type": "code",
   "execution_count": 57,
   "metadata": {},
   "outputs": [
    {
     "data": {
      "text/plain": [
       "Text(0.5, 1.0, 'Spread of GLD and GDX')"
      ]
     },
     "execution_count": 57,
     "metadata": {},
     "output_type": "execute_result"
    },
    {
     "data": {
      "image/png": "[encoded data removed]",
      "text/plain": [
       "<Figure size 432x288 with 1 Axes>"
      ]
     },
     "metadata": {
      "needs_background": "light"
     },
     "output_type": "display_data"
    }
   ],
   "source": [
    "plt.plot(df.iloc[0:252,:].loc[:,\"Close_GLD\"] - df.iloc[0:252,:].loc[:,\"Close_GDX\"])\n",
    "plt.title(\"Spread of GLD and GDX\")"
   ]
  },
  {
   "cell_type": "code",
   "execution_count": null,
   "metadata": {},
   "outputs": [],
   "source": []
  }
 ],
 "metadata": {
  "kernelspec": {
   "display_name": "dev",
   "language": "python",
   "name": "python3"
  },
  "language_info": {
   "codemirror_mode": {
    "name": "ipython",
    "version": 3
   },
   "file_extension": ".py",
   "mimetype": "text/x-python",
   "name": "python",
   "nbconvert_exporter": "python",
   "pygments_lexer": "ipython3",
   "version": "3.8.16"
  },
  "orig_nbformat": 4
 },
 "nbformat": 4,
 "nbformat_minor": 2
}
