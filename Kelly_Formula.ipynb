{
  "nbformat": 4,
  "nbformat_minor": 0,
  "metadata": {
    "colab": {
      "provenance": [],
      "authorship_tag": "ABX9TyO41c3DF6Oust9f4bIazZkr",
      "include_colab_link": true
    },
    "kernelspec": {
      "name": "python3",
      "display_name": "Python 3"
    },
    "language_info": {
      "name": "python"
    }
  },
  "cells": [
    {
      "cell_type": "markdown",
      "metadata": {
        "id": "view-in-github",
        "colab_type": "text"
      },
      "source": [
        "<a href=\"https://colab.research.google.com/github/WeimusT/Quantitative_trading/blob/main/Kelly_Formula.ipynb\" target=\"_parent\"><img src=\"https://colab.research.google.com/assets/colab-badge.svg\" alt=\"Open In Colab\"/></a>"
      ]
    },
    {
      "cell_type": "code",
      "execution_count": 29,
      "metadata": {
        "id": "KWlbwA36HcTj"
      },
      "outputs": [],
      "source": [
        "import yfinance as yf\n",
        "import numpy as np\n",
        "from numpy.linalg import inv\n",
        "import pandas as pd\n",
        "import matplotlib.pyplot as plt"
      ]
    },
    {
      "cell_type": "code",
      "source": [
        "spy_ticker = yf.Ticker(\"SPY\") # S&P 500 ETF\n",
        "oih_ticker = yf.Ticker(\"OIH\") # Oil service ETF\n",
        "iat_ticker = yf.Ticker(\"IAT\") # Regional bank ETF\n",
        "xrt_ticker = yf.Ticker(\"XRT\") # Retail ETF"
      ],
      "metadata": {
        "id": "5erqB0LmHqkU"
      },
      "execution_count": 10,
      "outputs": []
    },
    {
      "cell_type": "code",
      "source": [
        "spy_raw_df = spy_ticker.history(period=\"3Y\")\n",
        "oih_raw_df = oih_ticker.history(period=\"3Y\")\n",
        "iat_raw_df = iat_ticker.history(period=\"3Y\")\n",
        "xrt_raw_df = xrt_ticker.history(period=\"3Y\")\n",
        "\n",
        "df = pd.merge(spy_raw_df[\"Close\"], oih_raw_df[\"Close\"], left_index=True, right_index=True, suffixes=[\"_SPY\", \"_OIH\"])\n",
        "df = pd.merge(df, iat_raw_df[\"Close\"], left_index=True, right_index=True).rename({\"Close\": \"Close_IAT\"}, axis=1)\n",
        "df = pd.merge(df, xrt_raw_df[\"Close\"], left_index=True, right_index=True).rename({\"Close\": \"Close_XRT\"}, axis=1)\n",
        "df"
      ],
      "metadata": {
        "colab": {
          "base_uri": "https://localhost:8080/",
          "height": 450
        },
        "id": "oyCk9gvOJOQj",
        "outputId": "41e129c1-d654-4229-d0a6-eb698b01896a"
      },
      "execution_count": 11,
      "outputs": [
        {
          "output_type": "execute_result",
          "data": {
            "text/plain": [
              "                            Close_SPY   Close_OIH  Close_IAT  Close_XRT\n",
              "Date                                                                   \n",
              "2020-05-11 00:00:00-04:00  279.410248  104.699234  28.763063  36.175346\n",
              "2020-05-12 00:00:00-04:00  273.841156  105.241554  27.436815  35.241924\n",
              "2020-05-13 00:00:00-04:00  268.998047   96.254333  26.027672  34.327534\n",
              "2020-05-14 00:00:00-04:00  272.217163   97.745750  26.884211  34.498985\n",
              "2020-05-15 00:00:00-04:00  273.468597   98.036285  26.571066  35.194302\n",
              "...                               ...         ...        ...        ...\n",
              "2023-05-04 00:00:00-04:00  405.130005  254.580002  29.750000  59.419998\n",
              "2023-05-05 00:00:00-04:00  412.630005  261.579987  31.580000  61.169998\n",
              "2023-05-08 00:00:00-04:00  412.739990  262.100006  31.230000  61.529999\n",
              "2023-05-09 00:00:00-04:00  410.929993  263.130005  31.209999  61.360001\n",
              "2023-05-10 00:00:00-04:00  412.850006  259.829987  30.799999  61.340000\n",
              "\n",
              "[756 rows x 4 columns]"
            ],
            "text/html": [
              "\n",
              "  <div id=\"df-be155128-2ef4-4667-bde4-81dba3e6cbe1\">\n",
              "    <div class=\"colab-df-container\">\n",
              "      <div>\n",
              "<style scoped>\n",
              "    .dataframe tbody tr th:only-of-type {\n",
              "        vertical-align: middle;\n",
              "    }\n",
              "\n",
              "    .dataframe tbody tr th {\n",
              "        vertical-align: top;\n",
              "    }\n",
              "\n",
              "    .dataframe thead th {\n",
              "        text-align: right;\n",
              "    }\n",
              "</style>\n",
              "<table border=\"1\" class=\"dataframe\">\n",
              "  <thead>\n",
              "    <tr style=\"text-align: right;\">\n",
              "      <th></th>\n",
              "      <th>Close_SPY</th>\n",
              "      <th>Close_OIH</th>\n",
              "      <th>Close_IAT</th>\n",
              "      <th>Close_XRT</th>\n",
              "    </tr>\n",
              "    <tr>\n",
              "      <th>Date</th>\n",
              "      <th></th>\n",
              "      <th></th>\n",
              "      <th></th>\n",
              "      <th></th>\n",
              "    </tr>\n",
              "  </thead>\n",
              "  <tbody>\n",
              "    <tr>\n",
              "      <th>2020-05-11 00:00:00-04:00</th>\n",
              "      <td>279.410248</td>\n",
              "      <td>104.699234</td>\n",
              "      <td>28.763063</td>\n",
              "      <td>36.175346</td>\n",
              "    </tr>\n",
              "    <tr>\n",
              "      <th>2020-05-12 00:00:00-04:00</th>\n",
              "      <td>273.841156</td>\n",
              "      <td>105.241554</td>\n",
              "      <td>27.436815</td>\n",
              "      <td>35.241924</td>\n",
              "    </tr>\n",
              "    <tr>\n",
              "      <th>2020-05-13 00:00:00-04:00</th>\n",
              "      <td>268.998047</td>\n",
              "      <td>96.254333</td>\n",
              "      <td>26.027672</td>\n",
              "      <td>34.327534</td>\n",
              "    </tr>\n",
              "    <tr>\n",
              "      <th>2020-05-14 00:00:00-04:00</th>\n",
              "      <td>272.217163</td>\n",
              "      <td>97.745750</td>\n",
              "      <td>26.884211</td>\n",
              "      <td>34.498985</td>\n",
              "    </tr>\n",
              "    <tr>\n",
              "      <th>2020-05-15 00:00:00-04:00</th>\n",
              "      <td>273.468597</td>\n",
              "      <td>98.036285</td>\n",
              "      <td>26.571066</td>\n",
              "      <td>35.194302</td>\n",
              "    </tr>\n",
              "    <tr>\n",
              "      <th>...</th>\n",
              "      <td>...</td>\n",
              "      <td>...</td>\n",
              "      <td>...</td>\n",
              "      <td>...</td>\n",
              "    </tr>\n",
              "    <tr>\n",
              "      <th>2023-05-04 00:00:00-04:00</th>\n",
              "      <td>405.130005</td>\n",
              "      <td>254.580002</td>\n",
              "      <td>29.750000</td>\n",
              "      <td>59.419998</td>\n",
              "    </tr>\n",
              "    <tr>\n",
              "      <th>2023-05-05 00:00:00-04:00</th>\n",
              "      <td>412.630005</td>\n",
              "      <td>261.579987</td>\n",
              "      <td>31.580000</td>\n",
              "      <td>61.169998</td>\n",
              "    </tr>\n",
              "    <tr>\n",
              "      <th>2023-05-08 00:00:00-04:00</th>\n",
              "      <td>412.739990</td>\n",
              "      <td>262.100006</td>\n",
              "      <td>31.230000</td>\n",
              "      <td>61.529999</td>\n",
              "    </tr>\n",
              "    <tr>\n",
              "      <th>2023-05-09 00:00:00-04:00</th>\n",
              "      <td>410.929993</td>\n",
              "      <td>263.130005</td>\n",
              "      <td>31.209999</td>\n",
              "      <td>61.360001</td>\n",
              "    </tr>\n",
              "    <tr>\n",
              "      <th>2023-05-10 00:00:00-04:00</th>\n",
              "      <td>412.850006</td>\n",
              "      <td>259.829987</td>\n",
              "      <td>30.799999</td>\n",
              "      <td>61.340000</td>\n",
              "    </tr>\n",
              "  </tbody>\n",
              "</table>\n",
              "<p>756 rows × 4 columns</p>\n",
              "</div>\n",
              "      <button class=\"colab-df-convert\" onclick=\"convertToInteractive('df-be155128-2ef4-4667-bde4-81dba3e6cbe1')\"\n",
              "              title=\"Convert this dataframe to an interactive table.\"\n",
              "              style=\"display:none;\">\n",
              "        \n",
              "  <svg xmlns=\"http://www.w3.org/2000/svg\" height=\"24px\"viewBox=\"0 0 24 24\"\n",
              "       width=\"24px\">\n",
              "    <path d=\"M0 0h24v24H0V0z\" fill=\"none\"/>\n",
              "    <path d=\"M18.56 5.44l.94 2.06.94-2.06 2.06-.94-2.06-.94-.94-2.06-.94 2.06-2.06.94zm-11 1L8.5 8.5l.94-2.06 2.06-.94-2.06-.94L8.5 2.5l-.94 2.06-2.06.94zm10 10l.94 2.06.94-2.06 2.06-.94-2.06-.94-.94-2.06-.94 2.06-2.06.94z\"/><path d=\"M17.41 7.96l-1.37-1.37c-.4-.4-.92-.59-1.43-.59-.52 0-1.04.2-1.43.59L10.3 9.45l-7.72 7.72c-.78.78-.78 2.05 0 2.83L4 21.41c.39.39.9.59 1.41.59.51 0 1.02-.2 1.41-.59l7.78-7.78 2.81-2.81c.8-.78.8-2.07 0-2.86zM5.41 20L4 18.59l7.72-7.72 1.47 1.35L5.41 20z\"/>\n",
              "  </svg>\n",
              "      </button>\n",
              "      \n",
              "  <style>\n",
              "    .colab-df-container {\n",
              "      display:flex;\n",
              "      flex-wrap:wrap;\n",
              "      gap: 12px;\n",
              "    }\n",
              "\n",
              "    .colab-df-convert {\n",
              "      background-color: #E8F0FE;\n",
              "      border: none;\n",
              "      border-radius: 50%;\n",
              "      cursor: pointer;\n",
              "      display: none;\n",
              "      fill: #1967D2;\n",
              "      height: 32px;\n",
              "      padding: 0 0 0 0;\n",
              "      width: 32px;\n",
              "    }\n",
              "\n",
              "    .colab-df-convert:hover {\n",
              "      background-color: #E2EBFA;\n",
              "      box-shadow: 0px 1px 2px rgba(60, 64, 67, 0.3), 0px 1px 3px 1px rgba(60, 64, 67, 0.15);\n",
              "      fill: #174EA6;\n",
              "    }\n",
              "\n",
              "    [theme=dark] .colab-df-convert {\n",
              "      background-color: #3B4455;\n",
              "      fill: #D2E3FC;\n",
              "    }\n",
              "\n",
              "    [theme=dark] .colab-df-convert:hover {\n",
              "      background-color: #434B5C;\n",
              "      box-shadow: 0px 1px 3px 1px rgba(0, 0, 0, 0.15);\n",
              "      filter: drop-shadow(0px 1px 2px rgba(0, 0, 0, 0.3));\n",
              "      fill: #FFFFFF;\n",
              "    }\n",
              "  </style>\n",
              "\n",
              "      <script>\n",
              "        const buttonEl =\n",
              "          document.querySelector('#df-be155128-2ef4-4667-bde4-81dba3e6cbe1 button.colab-df-convert');\n",
              "        buttonEl.style.display =\n",
              "          google.colab.kernel.accessAllowed ? 'block' : 'none';\n",
              "\n",
              "        async function convertToInteractive(key) {\n",
              "          const element = document.querySelector('#df-be155128-2ef4-4667-bde4-81dba3e6cbe1');\n",
              "          const dataTable =\n",
              "            await google.colab.kernel.invokeFunction('convertToInteractive',\n",
              "                                                     [key], {});\n",
              "          if (!dataTable) return;\n",
              "\n",
              "          const docLinkHtml = 'Like what you see? Visit the ' +\n",
              "            '<a target=\"_blank\" href=https://colab.research.google.com/notebooks/data_table.ipynb>data table notebook</a>'\n",
              "            + ' to learn more about interactive tables.';\n",
              "          element.innerHTML = '';\n",
              "          dataTable['output_type'] = 'display_data';\n",
              "          await google.colab.output.renderOutput(dataTable, element);\n",
              "          const docLink = document.createElement('div');\n",
              "          docLink.innerHTML = docLinkHtml;\n",
              "          element.appendChild(docLink);\n",
              "        }\n",
              "      </script>\n",
              "    </div>\n",
              "  </div>\n",
              "  "
            ]
          },
          "metadata": {},
          "execution_count": 11
        }
      ]
    },
    {
      "cell_type": "code",
      "source": [
        "trainset = np.arange(0, 252*2)\n",
        "testset = np.arange(252*2, df.shape[0])\n",
        "print(\"Train set: %i, %i\" % (min(trainset), max(trainset)))\n",
        "print(\"Test set: %i, %i\" % (min(testset), max(testset)))"
      ],
      "metadata": {
        "colab": {
          "base_uri": "https://localhost:8080/"
        },
        "id": "Jqk4nTtHJnzN",
        "outputId": "3a0837df-5af1-4ec0-aaf6-b89434bdfde5"
      },
      "execution_count": 13,
      "outputs": [
        {
          "output_type": "stream",
          "name": "stdout",
          "text": [
            "Train set: 0, 503\n",
            "Test set: 504, 755\n"
          ]
        }
      ]
    },
    {
      "cell_type": "code",
      "source": [
        "ax = df.plot(figsize=[10, 5], title=\"Close\")\n",
        "ax.set_ylabel(\"Close Price\")\n",
        "ax.axvline(df.iloc[trainset].index[-1])"
      ],
      "metadata": {
        "colab": {
          "base_uri": "https://localhost:8080/",
          "height": 487
        },
        "id": "KTUnKDvxN3jB",
        "outputId": "e3246918-c00c-4fe2-8caa-cb0f72c96f9f"
      },
      "execution_count": 14,
      "outputs": [
        {
          "output_type": "execute_result",
          "data": {
            "text/plain": [
              "<matplotlib.lines.Line2D at 0x7fc2c2ea15a0>"
            ]
          },
          "metadata": {},
          "execution_count": 14
        },
        {
          "output_type": "display_data",
          "data": {
            "text/plain": [
              "<Figure size 1000x500 with 1 Axes>"
            ],
            "image/png": "[encoded data removed]"
          },
          "metadata": {}
        }
      ]
    },
    {
      "cell_type": "code",
      "source": [
        "# Buy and hold strategy - train\n",
        "dailyret = df.pct_change()\n",
        "excessret = dailyret - 0.04 / 252 # assuming 4% risk free rate\n",
        "bnhmean = np.mean(dailyret.iloc[trainset])\n",
        "bnhstd = np.std(dailyret.iloc[trainset])\n",
        "bnhsharpe = np.sqrt(252) * bnhmean  / bnhstd\n",
        "print(\"Annualized Sharpe (Train)\")\n",
        "print(bnhsharpe)"
      ],
      "metadata": {
        "colab": {
          "base_uri": "https://localhost:8080/"
        },
        "id": "ml4P0MHhKlbe",
        "outputId": "6fb35bf4-3078-427a-984c-a66c959b9f5c"
      },
      "execution_count": 25,
      "outputs": [
        {
          "output_type": "stream",
          "name": "stdout",
          "text": [
            "Annualized Sharpe (Train)\n",
            "Close_SPY    1.063755\n",
            "Close_OIH    1.063299\n",
            "Close_IAT    0.986668\n",
            "Close_XRT    1.079740\n",
            "dtype: float64\n"
          ]
        },
        {
          "output_type": "stream",
          "name": "stderr",
          "text": [
            "/usr/local/lib/python3.10/dist-packages/numpy/core/fromnumeric.py:3472: FutureWarning: In a future version, DataFrame.mean(axis=None) will return a scalar mean over the entire DataFrame. To retain the old behavior, use 'frame.mean(axis=0)' or just 'frame.mean()'\n",
            "  return mean(axis=axis, dtype=dtype, out=out, **kwargs)\n"
          ]
        }
      ]
    },
    {
      "cell_type": "code",
      "source": [
        "M = 252 *excessret.mean()\n",
        "M"
      ],
      "metadata": {
        "colab": {
          "base_uri": "https://localhost:8080/"
        },
        "id": "o7XMZhS3jZEC",
        "outputId": "72a9011b-da17-4c5c-91fe-d023d2fc8ddb"
      },
      "execution_count": 26,
      "outputs": [
        {
          "output_type": "execute_result",
          "data": {
            "text/plain": [
              "Close_SPY    0.108281\n",
              "Close_OIH    0.391386\n",
              "Close_IAT    0.046043\n",
              "Close_XRT    0.191330\n",
              "dtype: float64"
            ]
          },
          "metadata": {},
          "execution_count": 26
        }
      ]
    },
    {
      "cell_type": "code",
      "source": [
        "C = 252 * excessret.cov()\n",
        "C"
      ],
      "metadata": {
        "colab": {
          "base_uri": "https://localhost:8080/",
          "height": 173
        },
        "id": "PKU8TEp9jsBF",
        "outputId": "9e918b95-7c56-4da9-d08f-775ca1c06b64"
      },
      "execution_count": 27,
      "outputs": [
        {
          "output_type": "execute_result",
          "data": {
            "text/plain": [
              "           Close_SPY  Close_OIH  Close_IAT  Close_XRT\n",
              "Close_SPY   0.035842   0.043665   0.042287   0.041738\n",
              "Close_OIH   0.043665   0.257452   0.111242   0.066268\n",
              "Close_IAT   0.042287   0.111242   0.126253   0.063207\n",
              "Close_XRT   0.041738   0.066268   0.063207   0.110318"
            ],
            "text/html": [
              "\n",
              "  <div id=\"df-a886c4d7-cb18-4ea5-861c-3ae7b3138ee1\">\n",
              "    <div class=\"colab-df-container\">\n",
              "      <div>\n",
              "<style scoped>\n",
              "    .dataframe tbody tr th:only-of-type {\n",
              "        vertical-align: middle;\n",
              "    }\n",
              "\n",
              "    .dataframe tbody tr th {\n",
              "        vertical-align: top;\n",
              "    }\n",
              "\n",
              "    .dataframe thead th {\n",
              "        text-align: right;\n",
              "    }\n",
              "</style>\n",
              "<table border=\"1\" class=\"dataframe\">\n",
              "  <thead>\n",
              "    <tr style=\"text-align: right;\">\n",
              "      <th></th>\n",
              "      <th>Close_SPY</th>\n",
              "      <th>Close_OIH</th>\n",
              "      <th>Close_IAT</th>\n",
              "      <th>Close_XRT</th>\n",
              "    </tr>\n",
              "  </thead>\n",
              "  <tbody>\n",
              "    <tr>\n",
              "      <th>Close_SPY</th>\n",
              "      <td>0.035842</td>\n",
              "      <td>0.043665</td>\n",
              "      <td>0.042287</td>\n",
              "      <td>0.041738</td>\n",
              "    </tr>\n",
              "    <tr>\n",
              "      <th>Close_OIH</th>\n",
              "      <td>0.043665</td>\n",
              "      <td>0.257452</td>\n",
              "      <td>0.111242</td>\n",
              "      <td>0.066268</td>\n",
              "    </tr>\n",
              "    <tr>\n",
              "      <th>Close_IAT</th>\n",
              "      <td>0.042287</td>\n",
              "      <td>0.111242</td>\n",
              "      <td>0.126253</td>\n",
              "      <td>0.063207</td>\n",
              "    </tr>\n",
              "    <tr>\n",
              "      <th>Close_XRT</th>\n",
              "      <td>0.041738</td>\n",
              "      <td>0.066268</td>\n",
              "      <td>0.063207</td>\n",
              "      <td>0.110318</td>\n",
              "    </tr>\n",
              "  </tbody>\n",
              "</table>\n",
              "</div>\n",
              "      <button class=\"colab-df-convert\" onclick=\"convertToInteractive('df-a886c4d7-cb18-4ea5-861c-3ae7b3138ee1')\"\n",
              "              title=\"Convert this dataframe to an interactive table.\"\n",
              "              style=\"display:none;\">\n",
              "        \n",
              "  <svg xmlns=\"http://www.w3.org/2000/svg\" height=\"24px\"viewBox=\"0 0 24 24\"\n",
              "       width=\"24px\">\n",
              "    <path d=\"M0 0h24v24H0V0z\" fill=\"none\"/>\n",
              "    <path d=\"M18.56 5.44l.94 2.06.94-2.06 2.06-.94-2.06-.94-.94-2.06-.94 2.06-2.06.94zm-11 1L8.5 8.5l.94-2.06 2.06-.94-2.06-.94L8.5 2.5l-.94 2.06-2.06.94zm10 10l.94 2.06.94-2.06 2.06-.94-2.06-.94-.94-2.06-.94 2.06-2.06.94z\"/><path d=\"M17.41 7.96l-1.37-1.37c-.4-.4-.92-.59-1.43-.59-.52 0-1.04.2-1.43.59L10.3 9.45l-7.72 7.72c-.78.78-.78 2.05 0 2.83L4 21.41c.39.39.9.59 1.41.59.51 0 1.02-.2 1.41-.59l7.78-7.78 2.81-2.81c.8-.78.8-2.07 0-2.86zM5.41 20L4 18.59l7.72-7.72 1.47 1.35L5.41 20z\"/>\n",
              "  </svg>\n",
              "      </button>\n",
              "      \n",
              "  <style>\n",
              "    .colab-df-container {\n",
              "      display:flex;\n",
              "      flex-wrap:wrap;\n",
              "      gap: 12px;\n",
              "    }\n",
              "\n",
              "    .colab-df-convert {\n",
              "      background-color: #E8F0FE;\n",
              "      border: none;\n",
              "      border-radius: 50%;\n",
              "      cursor: pointer;\n",
              "      display: none;\n",
              "      fill: #1967D2;\n",
              "      height: 32px;\n",
              "      padding: 0 0 0 0;\n",
              "      width: 32px;\n",
              "    }\n",
              "\n",
              "    .colab-df-convert:hover {\n",
              "      background-color: #E2EBFA;\n",
              "      box-shadow: 0px 1px 2px rgba(60, 64, 67, 0.3), 0px 1px 3px 1px rgba(60, 64, 67, 0.15);\n",
              "      fill: #174EA6;\n",
              "    }\n",
              "\n",
              "    [theme=dark] .colab-df-convert {\n",
              "      background-color: #3B4455;\n",
              "      fill: #D2E3FC;\n",
              "    }\n",
              "\n",
              "    [theme=dark] .colab-df-convert:hover {\n",
              "      background-color: #434B5C;\n",
              "      box-shadow: 0px 1px 3px 1px rgba(0, 0, 0, 0.15);\n",
              "      filter: drop-shadow(0px 1px 2px rgba(0, 0, 0, 0.3));\n",
              "      fill: #FFFFFF;\n",
              "    }\n",
              "  </style>\n",
              "\n",
              "      <script>\n",
              "        const buttonEl =\n",
              "          document.querySelector('#df-a886c4d7-cb18-4ea5-861c-3ae7b3138ee1 button.colab-df-convert');\n",
              "        buttonEl.style.display =\n",
              "          google.colab.kernel.accessAllowed ? 'block' : 'none';\n",
              "\n",
              "        async function convertToInteractive(key) {\n",
              "          const element = document.querySelector('#df-a886c4d7-cb18-4ea5-861c-3ae7b3138ee1');\n",
              "          const dataTable =\n",
              "            await google.colab.kernel.invokeFunction('convertToInteractive',\n",
              "                                                     [key], {});\n",
              "          if (!dataTable) return;\n",
              "\n",
              "          const docLinkHtml = 'Like what you see? Visit the ' +\n",
              "            '<a target=\"_blank\" href=https://colab.research.google.com/notebooks/data_table.ipynb>data table notebook</a>'\n",
              "            + ' to learn more about interactive tables.';\n",
              "          element.innerHTML = '';\n",
              "          dataTable['output_type'] = 'display_data';\n",
              "          await google.colab.output.renderOutput(dataTable, element);\n",
              "          const docLink = document.createElement('div');\n",
              "          docLink.innerHTML = docLinkHtml;\n",
              "          element.appendChild(docLink);\n",
              "        }\n",
              "      </script>\n",
              "    </div>\n",
              "  </div>\n",
              "  "
            ]
          },
          "metadata": {},
          "execution_count": 27
        }
      ]
    },
    {
      "cell_type": "code",
      "source": [
        "F = np.dot(inv(C), M)\n",
        "F"
      ],
      "metadata": {
        "colab": {
          "base_uri": "https://localhost:8080/"
        },
        "id": "qxzv35NxkA8V",
        "outputId": "63b8da6e-b291-41ec-ee4a-438df9ce0512"
      },
      "execution_count": 31,
      "outputs": [
        {
          "output_type": "execute_result",
          "data": {
            "text/plain": [
              "array([ 2.54682952,  2.01829417, -2.86833521,  1.20180654])"
            ]
          },
          "metadata": {},
          "execution_count": 31
        }
      ]
    },
    {
      "cell_type": "code",
      "source": [
        "# Buy and hold strategy - test\n",
        "dailyret = df.pct_change()\n",
        "excessret = dailyret - 0.04 / 252 # assuming 4% risk free rate\n",
        "bnhmean = np.mean(dailyret.iloc[testset])\n",
        "bnhstd = np.std(dailyret.iloc[testset])\n",
        "bnhsharpe = np.sqrt(252) * bnhmean  / bnhstd\n",
        "print(\"Annualized Sharpe (Test)\")\n",
        "print(bnhsharpe)"
      ],
      "metadata": {
        "colab": {
          "base_uri": "https://localhost:8080/"
        },
        "id": "T5GiaxenMZgG",
        "outputId": "85c86fad-b15d-422c-de80-ca62b42060b9"
      },
      "execution_count": 21,
      "outputs": [
        {
          "output_type": "stream",
          "name": "stdout",
          "text": [
            "Annualized Sharpe (Test)\n",
            "Close_SPY    0.352282\n",
            "Close_OIH    0.359792\n",
            "Close_IAT   -1.245391\n",
            "Close_XRT   -0.020583\n",
            "dtype: float64\n"
          ]
        },
        {
          "output_type": "stream",
          "name": "stderr",
          "text": [
            "/usr/local/lib/python3.10/dist-packages/numpy/core/fromnumeric.py:3472: FutureWarning: In a future version, DataFrame.mean(axis=None) will return a scalar mean over the entire DataFrame. To retain the old behavior, use 'frame.mean(axis=0)' or just 'frame.mean()'\n",
            "  return mean(axis=axis, dtype=dtype, out=out, **kwargs)\n"
          ]
        }
      ]
    },
    {
      "cell_type": "code",
      "source": [],
      "metadata": {
        "id": "9JrVQc2dNpEL"
      },
      "execution_count": null,
      "outputs": []
    }
  ]
}